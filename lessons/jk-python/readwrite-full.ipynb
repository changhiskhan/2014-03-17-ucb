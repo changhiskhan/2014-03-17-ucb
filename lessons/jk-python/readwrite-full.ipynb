{
 "metadata": {
  "name": ""
 },
 "nbformat": 3,
 "nbformat_minor": 0,
 "worksheets": [
  {
   "cells": [
    {
     "cell_type": "markdown",
     "metadata": {},
     "source": [
      "# Reading and Writing Files using Python\n",
      "\n",
      "_Prepared by: Cindee Madison  \n",
      "Original by: Chris Holdgraf , Justin Kitzes_"
     ]
    },
    {
     "cell_type": "markdown",
     "metadata": {},
     "source": [
      "## 1. Introduction\n",
      "\n",
      "The core Python libraries, along with external packages such as `numpy`, `matplotlib`, `pandas`, and others,\n",
      "provide both low-level and high-level methods for extracting data from files, processing this data, and\n",
      "saving results back to disk.\n",
      "\n",
      "__In this lesson, we will read text-based data files in two ways...__\n",
      "\n",
      "\n",
      "1. We will use **pandas** to easily read, modify, and write back out a comma-separated-values (csv) file.\n",
      "\n"
     ]
    },
    {
     "cell_type": "markdown",
     "metadata": {},
     "source": [
      "###Pandas\n",
      "\n",
      "There are several packages for dealing with structured data in a more intelligent way (e.g., see [matplotlib.mlab](http://matplotlib.org/api/mlab_api.html) and [recarrays](http://docs.scipy.org/doc/numpy/reference/generated/numpy.recarray.html).  However, in recent years, [Pandas]( http://pandas.pydata.org/) has risen above the rest in its usability and flexibility.\n",
      "\n",
      "Pandas is one of the most powerful tools for doing data analysis in python.  It provides a way of representing, reading/writing, manipulating, analyzing, and plotting your data (among others). It has a fairly steep learning curve, but we assure you it will be worth it.\n",
      "\n",
      "The main data structure in Pandas is known as the \"DataFrame\" (which is quite similar to a Dataframe in R, if you're into that kind of thing...).  It let's you conveniently and clearly store, manipulate, plot, store, filter, etc, all kinds of data.\n",
      "\n",
      "While we can create dataframes manually, here we will use Pandas I/O functionality, which can easily read from csv files (and from many others as well, such as JSON, HTML, or HDF)\n",
      "\n",
      ">Note - Pandas can do *a lot*, and it's a very complicated package to understand in full.  For this tutorial, we will stick with reading in data, looking at it, and writing it     back to a file.  If you want to do more with pandas, check out the [extensive documentation](http://pandas.pydata.org/pandas-docs/stable/) online (though be prepared for a relatively steep learning curve)"
     ]
    },
    {
     "cell_type": "code",
     "collapsed": false,
     "input": [
      "%pylab inline\n",
      "import pandas as pd"
     ],
     "language": "python",
     "metadata": {},
     "outputs": [
      {
       "output_type": "stream",
       "stream": "stdout",
       "text": [
        "Populating the interactive namespace from numpy and matplotlib\n"
       ]
      }
     ],
     "prompt_number": 25
    },
    {
     "cell_type": "code",
     "collapsed": false,
     "input": [
      "!cat sightings_tab_sm.csv"
     ],
     "language": "python",
     "metadata": {},
     "outputs": [
      {
       "output_type": "stream",
       "stream": "stdout",
       "text": [
        "Date,Time,Animal,Count\r\n",
        "2011-04-22,16:20,Owl,14\r\n",
        "2011-04-22,10:08,Fox,4\r\n",
        "2011-04-23,06:29,Muskox,31\r\n",
        "2011-04-23,21:11,Owl,20\r\n",
        "2011-04-23,07:41,Muskox,20\r\n"
       ]
      }
     ],
     "prompt_number": 23
    },
    {
     "cell_type": "code",
     "collapsed": false,
     "input": [
      "# First we will read in the data from the CSV file.\n",
      "# Pandas has inherent fanciness that displays data in nice tabular format.\n",
      "df = pd.read_csv('sightings_tab_sm.csv')\n",
      "df"
     ],
     "language": "python",
     "metadata": {},
     "outputs": [
      {
       "html": [
        "<div style=\"max-height:1000px;max-width:1500px;overflow:auto;\">\n",
        "<table border=\"1\" class=\"dataframe\">\n",
        "  <thead>\n",
        "    <tr style=\"text-align: right;\">\n",
        "      <th></th>\n",
        "      <th>Date</th>\n",
        "      <th>Time</th>\n",
        "      <th>Animal</th>\n",
        "      <th>Count</th>\n",
        "    </tr>\n",
        "  </thead>\n",
        "  <tbody>\n",
        "    <tr>\n",
        "      <th>0</th>\n",
        "      <td> 2011-04-22</td>\n",
        "      <td> 16:20</td>\n",
        "      <td>    Owl</td>\n",
        "      <td> 14</td>\n",
        "    </tr>\n",
        "    <tr>\n",
        "      <th>1</th>\n",
        "      <td> 2011-04-22</td>\n",
        "      <td> 10:08</td>\n",
        "      <td>    Fox</td>\n",
        "      <td>  4</td>\n",
        "    </tr>\n",
        "    <tr>\n",
        "      <th>2</th>\n",
        "      <td> 2011-04-23</td>\n",
        "      <td> 06:29</td>\n",
        "      <td> Muskox</td>\n",
        "      <td> 31</td>\n",
        "    </tr>\n",
        "    <tr>\n",
        "      <th>3</th>\n",
        "      <td> 2011-04-23</td>\n",
        "      <td> 21:11</td>\n",
        "      <td>    Owl</td>\n",
        "      <td> 20</td>\n",
        "    </tr>\n",
        "    <tr>\n",
        "      <th>4</th>\n",
        "      <td> 2011-04-23</td>\n",
        "      <td> 07:41</td>\n",
        "      <td> Muskox</td>\n",
        "      <td> 20</td>\n",
        "    </tr>\n",
        "  </tbody>\n",
        "</table>\n",
        "<p>5 rows \u00d7 4 columns</p>\n",
        "</div>"
       ],
       "metadata": {},
       "output_type": "pyout",
       "prompt_number": 26,
       "text": [
        "         Date   Time  Animal  Count\n",
        "0  2011-04-22  16:20     Owl     14\n",
        "1  2011-04-22  10:08     Fox      4\n",
        "2  2011-04-23  06:29  Muskox     31\n",
        "3  2011-04-23  21:11     Owl     20\n",
        "4  2011-04-23  07:41  Muskox     20\n",
        "\n",
        "[5 rows x 4 columns]"
       ]
      }
     ],
     "prompt_number": 26
    },
    {
     "cell_type": "code",
     "collapsed": false,
     "input": [
      "print df\n",
      "print df.dtypes"
     ],
     "language": "python",
     "metadata": {},
     "outputs": [
      {
       "output_type": "stream",
       "stream": "stdout",
       "text": [
        "         Date   Time  Animal  Count\n",
        "0  2011-04-22  16:20     Owl     14\n",
        "1  2011-04-22  10:08     Fox      4\n",
        "2  2011-04-23  06:29  Muskox     31\n",
        "3  2011-04-23  21:11     Owl     20\n",
        "4  2011-04-23  07:41  Muskox     20\n",
        "\n",
        "[5 rows x 4 columns]\n",
        "Date      object\n",
        "Time      object\n",
        "Animal    object\n",
        "Count      int64\n",
        "dtype: object\n"
       ]
      }
     ],
     "prompt_number": 27
    },
    {
     "cell_type": "code",
     "collapsed": false,
     "input": [
      "# a dataframe has colums\n",
      "df.columns"
     ],
     "language": "python",
     "metadata": {},
     "outputs": [
      {
       "metadata": {},
       "output_type": "pyout",
       "prompt_number": 28,
       "text": [
        "Index([u'Date', u'Time', u'Animal', u'Count'], dtype='object')"
       ]
      }
     ],
     "prompt_number": 28
    },
    {
     "cell_type": "code",
     "collapsed": false,
     "input": [
      "## we can access the data in each column in two ways\n",
      "df['Animal']\n",
      "df.Animal"
     ],
     "language": "python",
     "metadata": {},
     "outputs": [
      {
       "metadata": {},
       "output_type": "pyout",
       "prompt_number": 29,
       "text": [
        "0       Owl\n",
        "1       Fox\n",
        "2    Muskox\n",
        "3       Owl\n",
        "4    Muskox\n",
        "Name: Animal, dtype: object"
       ]
      }
     ],
     "prompt_number": 29
    },
    {
     "cell_type": "code",
     "collapsed": false,
     "input": [
      "df[['Animal', 'Count']]"
     ],
     "language": "python",
     "metadata": {},
     "outputs": [
      {
       "html": [
        "<div style=\"max-height:1000px;max-width:1500px;overflow:auto;\">\n",
        "<table border=\"1\" class=\"dataframe\">\n",
        "  <thead>\n",
        "    <tr style=\"text-align: right;\">\n",
        "      <th></th>\n",
        "      <th>Animal</th>\n",
        "      <th>Count</th>\n",
        "    </tr>\n",
        "  </thead>\n",
        "  <tbody>\n",
        "    <tr>\n",
        "      <th>0</th>\n",
        "      <td>    Owl</td>\n",
        "      <td> 14</td>\n",
        "    </tr>\n",
        "    <tr>\n",
        "      <th>1</th>\n",
        "      <td>    Fox</td>\n",
        "      <td>  4</td>\n",
        "    </tr>\n",
        "    <tr>\n",
        "      <th>2</th>\n",
        "      <td> Muskox</td>\n",
        "      <td> 31</td>\n",
        "    </tr>\n",
        "    <tr>\n",
        "      <th>3</th>\n",
        "      <td>    Owl</td>\n",
        "      <td> 20</td>\n",
        "    </tr>\n",
        "    <tr>\n",
        "      <th>4</th>\n",
        "      <td> Muskox</td>\n",
        "      <td> 20</td>\n",
        "    </tr>\n",
        "  </tbody>\n",
        "</table>\n",
        "<p>5 rows \u00d7 2 columns</p>\n",
        "</div>"
       ],
       "metadata": {},
       "output_type": "pyout",
       "prompt_number": 30,
       "text": [
        "   Animal  Count\n",
        "0     Owl     14\n",
        "1     Fox      4\n",
        "2  Muskox     31\n",
        "3     Owl     20\n",
        "4  Muskox     20\n",
        "\n",
        "[5 rows x 2 columns]"
       ]
      }
     ],
     "prompt_number": 30
    },
    {
     "cell_type": "code",
     "collapsed": false,
     "input": [
      "# Note that we can explicitly turn our values into an array\n",
      "# by using the \"values\" attribute\n",
      "df.values"
     ],
     "language": "python",
     "metadata": {},
     "outputs": [
      {
       "metadata": {},
       "output_type": "pyout",
       "prompt_number": 8,
       "text": [
        "array([['2011-04-22', '16:20', 'Owl', 14],\n",
        "       ['2011-04-22', '10:08', 'Fox', 4],\n",
        "       ['2011-04-23', '06:29', 'Muskox', 31],\n",
        "       ['2011-04-23', '21:11', 'Owl', 20],\n",
        "       ['2011-04-23', '07:41', 'Muskox', 20]], dtype=object)"
       ]
      }
     ],
     "prompt_number": 8
    },
    {
     "cell_type": "code",
     "collapsed": false,
     "input": [
      "df.values[0,:]"
     ],
     "language": "python",
     "metadata": {},
     "outputs": [
      {
       "metadata": {},
       "output_type": "pyout",
       "prompt_number": 9,
       "text": [
        "array(['2011-04-22', '16:20', 'Owl', 14], dtype=object)"
       ]
      }
     ],
     "prompt_number": 9
    },
    {
     "cell_type": "markdown",
     "metadata": {},
     "source": [
      "### However, pandas is much more powerful than this"
     ]
    },
    {
     "cell_type": "code",
     "collapsed": false,
     "input": [
      "df.to_csv('sightings_recs_sm2.txt')"
     ],
     "language": "python",
     "metadata": {},
     "outputs": [],
     "prompt_number": 10
    },
    {
     "cell_type": "code",
     "collapsed": false,
     "input": [
      "bdf = pd.read_csv('sightings_tab_lg.csv')\n",
      "bdf.to_excel('sightings.xls')"
     ],
     "language": "python",
     "metadata": {},
     "outputs": [],
     "prompt_number": 15
    },
    {
     "cell_type": "markdown",
     "metadata": {},
     "source": [
      "### using Pandas to Read Excel Files\n"
     ]
    },
    {
     "cell_type": "code",
     "collapsed": false,
     "input": [
      "excelfile = pd.ExcelFile('sightings.xls')"
     ],
     "language": "python",
     "metadata": {},
     "outputs": [],
     "prompt_number": 16
    },
    {
     "cell_type": "code",
     "collapsed": false,
     "input": [
      "# Excel files can hold multiple sheets, so we need to choose which sheet we would like to load\n",
      "\n",
      "excelfile.sheet_names"
     ],
     "language": "python",
     "metadata": {},
     "outputs": [
      {
       "metadata": {},
       "output_type": "pyout",
       "prompt_number": 17,
       "text": [
        "[u'Sheet1']"
       ]
      }
     ],
     "prompt_number": 17
    },
    {
     "cell_type": "code",
     "collapsed": false,
     "input": [
      "df = excelfile.parse('Sheet1')"
     ],
     "language": "python",
     "metadata": {},
     "outputs": [],
     "prompt_number": 18
    },
    {
     "cell_type": "code",
     "collapsed": false,
     "input": [
      "# Look at the first 5 rows\n",
      "df[:5]"
     ],
     "language": "python",
     "metadata": {},
     "outputs": [
      {
       "html": [
        "<div style=\"max-height:1000px;max-width:1500px;overflow:auto;\">\n",
        "<table border=\"1\" class=\"dataframe\">\n",
        "  <thead>\n",
        "    <tr style=\"text-align: right;\">\n",
        "      <th></th>\n",
        "      <th>Date</th>\n",
        "      <th>Time</th>\n",
        "      <th>Animal</th>\n",
        "      <th>Count</th>\n",
        "    </tr>\n",
        "  </thead>\n",
        "  <tbody>\n",
        "    <tr>\n",
        "      <th>0</th>\n",
        "      <td> 2009-04-22</td>\n",
        "      <td> 19:47</td>\n",
        "      <td>    Muskox</td>\n",
        "      <td>  7</td>\n",
        "    </tr>\n",
        "    <tr>\n",
        "      <th>1</th>\n",
        "      <td> 2009-04-22</td>\n",
        "      <td> 08:41</td>\n",
        "      <td>       Elk</td>\n",
        "      <td> 35</td>\n",
        "    </tr>\n",
        "    <tr>\n",
        "      <th>2</th>\n",
        "      <td> 2009-04-22</td>\n",
        "      <td> 12:20</td>\n",
        "      <td>       Owl</td>\n",
        "      <td> 21</td>\n",
        "    </tr>\n",
        "    <tr>\n",
        "      <th>3</th>\n",
        "      <td> 2009-04-22</td>\n",
        "      <td> 14:30</td>\n",
        "      <td> Wolverine</td>\n",
        "      <td> 25</td>\n",
        "    </tr>\n",
        "    <tr>\n",
        "      <th>4</th>\n",
        "      <td> 2009-04-22</td>\n",
        "      <td> 06:03</td>\n",
        "      <td>       Fox</td>\n",
        "      <td> 19</td>\n",
        "    </tr>\n",
        "  </tbody>\n",
        "</table>\n",
        "<p>5 rows \u00d7 4 columns</p>\n",
        "</div>"
       ],
       "metadata": {},
       "output_type": "pyout",
       "prompt_number": 24,
       "text": [
        "         Date   Time     Animal  Count\n",
        "0  2009-04-22  19:47     Muskox      7\n",
        "1  2009-04-22  08:41        Elk     35\n",
        "2  2009-04-22  12:20        Owl     21\n",
        "3  2009-04-22  14:30  Wolverine     25\n",
        "4  2009-04-22  06:03        Fox     19\n",
        "\n",
        "[5 rows x 4 columns]"
       ]
      }
     ],
     "prompt_number": 24
    },
    {
     "cell_type": "code",
     "collapsed": false,
     "input": [
      "## look at just a part of the data\n",
      "df.head()"
     ],
     "language": "python",
     "metadata": {},
     "outputs": [
      {
       "html": [
        "<div style=\"max-height:1000px;max-width:1500px;overflow:auto;\">\n",
        "<table border=\"1\" class=\"dataframe\">\n",
        "  <thead>\n",
        "    <tr style=\"text-align: right;\">\n",
        "      <th></th>\n",
        "      <th>Date</th>\n",
        "      <th>Time</th>\n",
        "      <th>Animal</th>\n",
        "      <th>Count</th>\n",
        "    </tr>\n",
        "  </thead>\n",
        "  <tbody>\n",
        "    <tr>\n",
        "      <th>0</th>\n",
        "      <td> 2009-04-22</td>\n",
        "      <td> 19:47</td>\n",
        "      <td>    Muskox</td>\n",
        "      <td>  7</td>\n",
        "    </tr>\n",
        "    <tr>\n",
        "      <th>1</th>\n",
        "      <td> 2009-04-22</td>\n",
        "      <td> 08:41</td>\n",
        "      <td>       Elk</td>\n",
        "      <td> 35</td>\n",
        "    </tr>\n",
        "    <tr>\n",
        "      <th>2</th>\n",
        "      <td> 2009-04-22</td>\n",
        "      <td> 12:20</td>\n",
        "      <td>       Owl</td>\n",
        "      <td> 21</td>\n",
        "    </tr>\n",
        "    <tr>\n",
        "      <th>3</th>\n",
        "      <td> 2009-04-22</td>\n",
        "      <td> 14:30</td>\n",
        "      <td> Wolverine</td>\n",
        "      <td> 25</td>\n",
        "    </tr>\n",
        "    <tr>\n",
        "      <th>4</th>\n",
        "      <td> 2009-04-22</td>\n",
        "      <td> 06:03</td>\n",
        "      <td>       Fox</td>\n",
        "      <td> 19</td>\n",
        "    </tr>\n",
        "  </tbody>\n",
        "</table>\n",
        "<p>5 rows \u00d7 4 columns</p>\n",
        "</div>"
       ],
       "metadata": {},
       "output_type": "pyout",
       "prompt_number": 23,
       "text": [
        "         Date   Time     Animal  Count\n",
        "0  2009-04-22  19:47     Muskox      7\n",
        "1  2009-04-22  08:41        Elk     35\n",
        "2  2009-04-22  12:20        Owl     21\n",
        "3  2009-04-22  14:30  Wolverine     25\n",
        "4  2009-04-22  06:03        Fox     19\n",
        "\n",
        "[5 rows x 4 columns]"
       ]
      }
     ],
     "prompt_number": 23
    },
    {
     "cell_type": "code",
     "collapsed": false,
     "input": [
      "## find out something interesting about the data\n",
      "df.describe()"
     ],
     "language": "python",
     "metadata": {},
     "outputs": [
      {
       "html": [
        "<div style=\"max-height:1000px;max-width:1500px;overflow:auto;\">\n",
        "<table border=\"1\" class=\"dataframe\">\n",
        "  <thead>\n",
        "    <tr style=\"text-align: right;\">\n",
        "      <th></th>\n",
        "      <th>Count</th>\n",
        "    </tr>\n",
        "  </thead>\n",
        "  <tbody>\n",
        "    <tr>\n",
        "      <th>count</th>\n",
        "      <td> 2000.000000</td>\n",
        "    </tr>\n",
        "    <tr>\n",
        "      <th>mean</th>\n",
        "      <td>   21.513500</td>\n",
        "    </tr>\n",
        "    <tr>\n",
        "      <th>std</th>\n",
        "      <td>   11.881726</td>\n",
        "    </tr>\n",
        "    <tr>\n",
        "      <th>min</th>\n",
        "      <td>    1.000000</td>\n",
        "    </tr>\n",
        "    <tr>\n",
        "      <th>25%</th>\n",
        "      <td>   11.000000</td>\n",
        "    </tr>\n",
        "    <tr>\n",
        "      <th>50%</th>\n",
        "      <td>   22.000000</td>\n",
        "    </tr>\n",
        "    <tr>\n",
        "      <th>75%</th>\n",
        "      <td>   31.000000</td>\n",
        "    </tr>\n",
        "    <tr>\n",
        "      <th>max</th>\n",
        "      <td>   42.000000</td>\n",
        "    </tr>\n",
        "  </tbody>\n",
        "</table>\n",
        "<p>8 rows \u00d7 1 columns</p>\n",
        "</div>"
       ],
       "metadata": {},
       "output_type": "pyout",
       "prompt_number": 21,
       "text": [
        "             Count\n",
        "count  2000.000000\n",
        "mean     21.513500\n",
        "std      11.881726\n",
        "min       1.000000\n",
        "25%      11.000000\n",
        "50%      22.000000\n",
        "75%      31.000000\n",
        "max      42.000000\n",
        "\n",
        "[8 rows x 1 columns]"
       ]
      }
     ],
     "prompt_number": 21
    },
    {
     "cell_type": "code",
     "collapsed": false,
     "input": [
      "## plot some of the data\n",
      "df.boxplot();"
     ],
     "language": "python",
     "metadata": {},
     "outputs": [
      {
       "metadata": {},
       "output_type": "display_data",
       "png": "[encoded data removed]",
       "text": [
        "<matplotlib.figure.Figure at 0x106eb7e90>"
       ]
      }
     ],
     "prompt_number": 43
    },
    {
     "cell_type": "code",
     "collapsed": false,
     "input": [
      "## add a new column based on math form original column\n",
      "df['Count_2'] = df.Count * 2"
     ],
     "language": "python",
     "metadata": {},
     "outputs": [],
     "prompt_number": 31
    },
    {
     "cell_type": "code",
     "collapsed": false,
     "input": [
      "df"
     ],
     "language": "python",
     "metadata": {},
     "outputs": [
      {
       "html": [
        "<div style=\"max-height:1000px;max-width:1500px;overflow:auto;\">\n",
        "<table border=\"1\" class=\"dataframe\">\n",
        "  <thead>\n",
        "    <tr style=\"text-align: right;\">\n",
        "      <th></th>\n",
        "      <th>Date</th>\n",
        "      <th>Time</th>\n",
        "      <th>Animal</th>\n",
        "      <th>Count</th>\n",
        "      <th>Count_2</th>\n",
        "    </tr>\n",
        "  </thead>\n",
        "  <tbody>\n",
        "    <tr>\n",
        "      <th>0</th>\n",
        "      <td> 2011-04-22</td>\n",
        "      <td> 16:20</td>\n",
        "      <td>    Owl</td>\n",
        "      <td> 14</td>\n",
        "      <td> 28</td>\n",
        "    </tr>\n",
        "    <tr>\n",
        "      <th>1</th>\n",
        "      <td> 2011-04-22</td>\n",
        "      <td> 10:08</td>\n",
        "      <td>    Fox</td>\n",
        "      <td>  4</td>\n",
        "      <td>  8</td>\n",
        "    </tr>\n",
        "    <tr>\n",
        "      <th>2</th>\n",
        "      <td> 2011-04-23</td>\n",
        "      <td> 06:29</td>\n",
        "      <td> Muskox</td>\n",
        "      <td> 31</td>\n",
        "      <td> 62</td>\n",
        "    </tr>\n",
        "    <tr>\n",
        "      <th>3</th>\n",
        "      <td> 2011-04-23</td>\n",
        "      <td> 21:11</td>\n",
        "      <td>    Owl</td>\n",
        "      <td> 20</td>\n",
        "      <td> 40</td>\n",
        "    </tr>\n",
        "    <tr>\n",
        "      <th>4</th>\n",
        "      <td> 2011-04-23</td>\n",
        "      <td> 07:41</td>\n",
        "      <td> Muskox</td>\n",
        "      <td> 20</td>\n",
        "      <td> 40</td>\n",
        "    </tr>\n",
        "  </tbody>\n",
        "</table>\n",
        "<p>5 rows \u00d7 5 columns</p>\n",
        "</div>"
       ],
       "metadata": {},
       "output_type": "pyout",
       "prompt_number": 32,
       "text": [
        "         Date   Time  Animal  Count  Count_2\n",
        "0  2011-04-22  16:20     Owl     14       28\n",
        "1  2011-04-22  10:08     Fox      4        8\n",
        "2  2011-04-23  06:29  Muskox     31       62\n",
        "3  2011-04-23  21:11     Owl     20       40\n",
        "4  2011-04-23  07:41  Muskox     20       40\n",
        "\n",
        "[5 rows x 5 columns]"
       ]
      }
     ],
     "prompt_number": 32
    },
    {
     "cell_type": "code",
     "collapsed": false,
     "input": [
      "# create a new dataframe that only contains Owl data\n",
      "owl_mask = df.Animal == 'Owl'\n",
      "owls = df[owl_mask]"
     ],
     "language": "python",
     "metadata": {},
     "outputs": [],
     "prompt_number": 33
    },
    {
     "cell_type": "code",
     "collapsed": false,
     "input": [
      "owls"
     ],
     "language": "python",
     "metadata": {},
     "outputs": [
      {
       "html": [
        "<div style=\"max-height:1000px;max-width:1500px;overflow:auto;\">\n",
        "<table border=\"1\" class=\"dataframe\">\n",
        "  <thead>\n",
        "    <tr style=\"text-align: right;\">\n",
        "      <th></th>\n",
        "      <th>Date</th>\n",
        "      <th>Time</th>\n",
        "      <th>Animal</th>\n",
        "      <th>Count</th>\n",
        "      <th>Count_2</th>\n",
        "    </tr>\n",
        "  </thead>\n",
        "  <tbody>\n",
        "    <tr>\n",
        "      <th>0</th>\n",
        "      <td> 2011-04-22</td>\n",
        "      <td> 16:20</td>\n",
        "      <td> Owl</td>\n",
        "      <td> 14</td>\n",
        "      <td> 28</td>\n",
        "    </tr>\n",
        "    <tr>\n",
        "      <th>3</th>\n",
        "      <td> 2011-04-23</td>\n",
        "      <td> 21:11</td>\n",
        "      <td> Owl</td>\n",
        "      <td> 20</td>\n",
        "      <td> 40</td>\n",
        "    </tr>\n",
        "  </tbody>\n",
        "</table>\n",
        "<p>2 rows \u00d7 5 columns</p>\n",
        "</div>"
       ],
       "metadata": {},
       "output_type": "pyout",
       "prompt_number": 34,
       "text": [
        "         Date   Time Animal  Count  Count_2\n",
        "0  2011-04-22  16:20    Owl     14       28\n",
        "3  2011-04-23  21:11    Owl     20       40\n",
        "\n",
        "[2 rows x 5 columns]"
       ]
      }
     ],
     "prompt_number": 34
    },
    {
     "cell_type": "code",
     "collapsed": false,
     "input": [
      "## Adding empty data\n",
      "owls['gender'] = ['Female', pd.np.nan]"
     ],
     "language": "python",
     "metadata": {},
     "outputs": [],
     "prompt_number": 39
    },
    {
     "cell_type": "code",
     "collapsed": false,
     "input": [
      "owls"
     ],
     "language": "python",
     "metadata": {},
     "outputs": [
      {
       "html": [
        "<div style=\"max-height:1000px;max-width:1500px;overflow:auto;\">\n",
        "<table border=\"1\" class=\"dataframe\">\n",
        "  <thead>\n",
        "    <tr style=\"text-align: right;\">\n",
        "      <th></th>\n",
        "      <th>Date</th>\n",
        "      <th>Time</th>\n",
        "      <th>Animal</th>\n",
        "      <th>Count</th>\n",
        "      <th>Count_2</th>\n",
        "      <th>gender</th>\n",
        "    </tr>\n",
        "  </thead>\n",
        "  <tbody>\n",
        "    <tr>\n",
        "      <th>0</th>\n",
        "      <td> 2011-04-22</td>\n",
        "      <td> 16:20</td>\n",
        "      <td> Owl</td>\n",
        "      <td> 14</td>\n",
        "      <td> 28</td>\n",
        "      <td> Female</td>\n",
        "    </tr>\n",
        "    <tr>\n",
        "      <th>3</th>\n",
        "      <td> 2011-04-23</td>\n",
        "      <td> 21:11</td>\n",
        "      <td> Owl</td>\n",
        "      <td> 20</td>\n",
        "      <td> 40</td>\n",
        "      <td>    NaN</td>\n",
        "    </tr>\n",
        "  </tbody>\n",
        "</table>\n",
        "<p>2 rows \u00d7 6 columns</p>\n",
        "</div>"
       ],
       "metadata": {},
       "output_type": "pyout",
       "prompt_number": 40,
       "text": [
        "         Date   Time Animal  Count  Count_2  gender\n",
        "0  2011-04-22  16:20    Owl     14       28  Female\n",
        "3  2011-04-23  21:11    Owl     20       40     NaN\n",
        "\n",
        "[2 rows x 6 columns]"
       ]
      }
     ],
     "prompt_number": 40
    },
    {
     "cell_type": "code",
     "collapsed": false,
     "input": [
      "## How many samples of each column do we have\n",
      "owls.count()"
     ],
     "language": "python",
     "metadata": {},
     "outputs": [
      {
       "metadata": {},
       "output_type": "pyout",
       "prompt_number": 41,
       "text": [
        "Date       2\n",
        "Time       2\n",
        "Animal     2\n",
        "Count      2\n",
        "Count_2    2\n",
        "gender     1\n",
        "dtype: int64"
       ]
      }
     ],
     "prompt_number": 41
    },
    {
     "cell_type": "markdown",
     "metadata": {},
     "source": [
      "#### Iterating through Pandas arrays\n",
      "\n",
      "Iteration is a bit different in Pandas.  In general, it's easy to be very explicit about how you're iterating (e.g., by rows or columns).  All dataframes have an `iterrows` and `iteritems` method.  For this exercise, we'll focus on `iterrows`\n",
      "\n",
      "Iterrows - each iteration will return another row of the dataframe as (index, vals) pairs."
     ]
    },
    {
     "cell_type": "code",
     "collapsed": false,
     "input": [
      "# Each iteration returns a Pandas series, not a simple array.  \n",
      "# This lets you do useful things with it when you become a pandas guru...\n",
      "for row, item in df.iterrows():\n",
      "    print 'Row index is: ', row, '\\nRow values are: \\n', item, '\\n'"
     ],
     "language": "python",
     "metadata": {},
     "outputs": [
      {
       "output_type": "stream",
       "stream": "stdout",
       "text": [
        "Row index is:  zero \n",
        "Row values are: \n",
        "date             2011-04-22\n",
        "meal_time             16:20\n",
        "sandwich_type           Owl\n",
        "n_sandwiches             14\n",
        "Name: zero, dtype: object \n",
        "\n",
        "Row index is:  one \n",
        "Row values are: \n",
        "date             2011-04-22\n",
        "meal_time             10:08\n",
        "sandwich_type           Fox\n",
        "n_sandwiches              4\n",
        "Name: one, dtype: object \n",
        "\n",
        "Row index is:  two \n",
        "Row values are: \n",
        "date             2011-04-23\n",
        "meal_time             06:29\n",
        "sandwich_type        Muskox\n",
        "n_sandwiches             31\n",
        "Name: two, dtype: object \n",
        "\n",
        "Row index is:  three \n",
        "Row values are: \n",
        "date             2011-04-23\n",
        "meal_time             21:11\n",
        "sandwich_type           Owl\n",
        "n_sandwiches             20\n",
        "Name: three, dtype: object \n",
        "\n",
        "Row index is:  four \n",
        "Row values are: \n",
        "date             2011-04-23\n",
        "meal_time             07:41\n",
        "sandwich_type        Muskox\n",
        "n_sandwiches             20\n",
        "Name: four, dtype: object \n",
        "\n"
       ]
      }
     ],
     "prompt_number": 36
    },
    {
     "cell_type": "heading",
     "level": 2,
     "metadata": {},
     "source": [
      "Afterword"
     ]
    },
    {
     "cell_type": "markdown",
     "metadata": {},
     "source": [
      "Remember, `pandas` is an incredibly powerful tool that will take you a while to master (though it will certainly be worth it). This is just a small taste of all the things pandas can do, so don't feel discouraged if it seems totally overwhelming. Once you integrate it into your workflow, you will learn bit by bit. Also don't forget to consult the fantastic community of pythonistas around you here at Berkeley.\n",
      "\n",
      "In this lecture we've only covered a couple of the ways that you can read/write data.  While textfiles and CSV files are a common way of storing values, there many, many others.  Fortunately, Python has libraries for handling most of them.  Some things worth looking into are [JSON](http://www.json.org/), [HDF](http://www.hdfgroup.org/), [pickle](http://docs.python.org/2/library/pickle.html), and [savez](http://docs.scipy.org/doc/numpy/reference/generated/numpy.savez.html).\n",
      "\n",
      "As a general note, Pandas should have the ability to read/write to most of these types of storage.  One special case is when you use a proprietary storage format (e.g., if you've bought a machine that stores data in a company-specific way).  \n",
      "\n",
      "There are also many high-level file handlers in `numpy`, such as `loadtxt` and `savetxt`, that are also useful and we encourage you to look into them.  Finally, a totally different kind of data reading problem involves pulling data the internet.  For this, there are dedicated libraries for parsing websites and pulling information from them.  Rest-assured, these tools exist, but this challenge is beyond the scope of this lecture.  "
     ]
    },
    {
     "cell_type": "code",
     "collapsed": false,
     "input": [],
     "language": "python",
     "metadata": {},
     "outputs": []
    }
   ],
   "metadata": {}
  }
 ]
}