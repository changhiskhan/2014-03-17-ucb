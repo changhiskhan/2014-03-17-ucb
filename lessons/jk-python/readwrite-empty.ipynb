{
 "metadata": {
  "name": ""
 },
 "nbformat": 3,
 "nbformat_minor": 0,
 "worksheets": [
  {
   "cells": [
    {
     "cell_type": "markdown",
     "metadata": {},
     "source": [
      "# Reading and Writing Files using Python\n",
      "\n",
      "_Prepared by: Cindee Madison  \n",
      "Original by: Chris Holdgraf , Justin Kitzes_"
     ]
    },
    {
     "cell_type": "markdown",
     "metadata": {},
     "source": [
      "## 1. Introduction\n",
      "\n",
      "The core Python libraries, along with external packages such as `numpy`, `matplotlib`, `pandas`, and others,\n",
      "provide both low-level and high-level methods for extracting data from files, processing this data, and\n",
      "saving results back to disk.\n",
      "\n",
      "__In this lesson, we will read text-based data files in two ways...__\n",
      "\n",
      "\n",
      "1. We will use **pandas** to easily read, modify, and write back out a comma-separated-values (csv) file.\n",
      "\n"
     ]
    },
    {
     "cell_type": "markdown",
     "metadata": {},
     "source": [
      "###Pandas\n",
      "\n",
      "There are several packages for dealing with structured data in a more intelligent way (e.g., see [matplotlib.mlab](http://matplotlib.org/api/mlab_api.html) and [recarrays](http://docs.scipy.org/doc/numpy/reference/generated/numpy.recarray.html).  However, in recent years, [Pandas]( http://pandas.pydata.org/) has risen above the rest in its usability and flexibility.\n",
      "\n",
      "Pandas is one of the most powerful tools for doing data analysis in python.  It provides a way of representing, reading/writing, manipulating, analyzing, and plotting your data (among others). It has a fairly steep learning curve, but we assure you it will be worth it.\n",
      "\n",
      "The main data structure in Pandas is known as the \"DataFrame\" (which is quite similar to a Dataframe in R, if you're into that kind of thing...).  It let's you conveniently and clearly store, manipulate, plot, store, filter, etc, all kinds of data.\n",
      "\n",
      "While we can create dataframes manually, here we will use Pandas I/O functionality, which can easily read from csv files (and from many others as well, such as JSON, HTML, or HDF)\n",
      "\n",
      ">Note - Pandas can do *a lot*, and it's a very complicated package to understand in full.  For this tutorial, we will stick with reading in data, looking at it, and writing it     back to a file.  If you want to do more with pandas, check out the [extensive documentation](http://pandas.pydata.org/pandas-docs/stable/) online (though be prepared for a relatively steep learning curve)"
     ]
    },
    {
     "cell_type": "code",
     "collapsed": false,
     "input": [
      "%pylab inline\n",
      "import pandas as pd"
     ],
     "language": "python",
     "metadata": {},
     "outputs": []
    },
    {
     "cell_type": "code",
     "collapsed": false,
     "input": [
      "!cat sightings_tab_sm.csv"
     ],
     "language": "python",
     "metadata": {},
     "outputs": []
    },
    {
     "cell_type": "code",
     "collapsed": false,
     "input": [
      "# First we will read in the data from the CSV file.\n",
      "# Pandas has inherent fanciness that displays data in nice tabular format."
     ],
     "language": "python",
     "metadata": {},
     "outputs": []
    },
    {
     "cell_type": "code",
     "collapsed": false,
     "input": [],
     "language": "python",
     "metadata": {},
     "outputs": []
    },
    {
     "cell_type": "code",
     "collapsed": false,
     "input": [
      "# a dataframe has colums\n"
     ],
     "language": "python",
     "metadata": {},
     "outputs": []
    },
    {
     "cell_type": "code",
     "collapsed": false,
     "input": [
      "## we can access the data in each column in two ways\n"
     ],
     "language": "python",
     "metadata": {},
     "outputs": []
    },
    {
     "cell_type": "code",
     "collapsed": false,
     "input": [],
     "language": "python",
     "metadata": {},
     "outputs": []
    },
    {
     "cell_type": "code",
     "collapsed": false,
     "input": [
      "# Note that we can explicitly turn our values into an array\n",
      "# by using the \"values\" attribute\n"
     ],
     "language": "python",
     "metadata": {},
     "outputs": []
    },
    {
     "cell_type": "code",
     "collapsed": false,
     "input": [],
     "language": "python",
     "metadata": {},
     "outputs": []
    },
    {
     "cell_type": "markdown",
     "metadata": {},
     "source": [
      "### However, pandas is much more powerful than this"
     ]
    },
    {
     "cell_type": "code",
     "collapsed": false,
     "input": [],
     "language": "python",
     "metadata": {},
     "outputs": []
    },
    {
     "cell_type": "code",
     "collapsed": false,
     "input": [],
     "language": "python",
     "metadata": {},
     "outputs": []
    },
    {
     "cell_type": "markdown",
     "metadata": {},
     "source": [
      "### using Pandas to Read Excel Files\n"
     ]
    },
    {
     "cell_type": "code",
     "collapsed": false,
     "input": [],
     "language": "python",
     "metadata": {},
     "outputs": []
    },
    {
     "cell_type": "code",
     "collapsed": false,
     "input": [
      "# Excel files can hold multiple sheets, so we need to choose which sheet we would like to load\n",
      "\n"
     ],
     "language": "python",
     "metadata": {},
     "outputs": []
    },
    {
     "cell_type": "code",
     "collapsed": false,
     "input": [],
     "language": "python",
     "metadata": {},
     "outputs": []
    },
    {
     "cell_type": "code",
     "collapsed": false,
     "input": [
      "# Look at the first 5 rows\n"
     ],
     "language": "python",
     "metadata": {},
     "outputs": []
    },
    {
     "cell_type": "code",
     "collapsed": false,
     "input": [
      "## look at just a part of the data\n"
     ],
     "language": "python",
     "metadata": {},
     "outputs": []
    },
    {
     "cell_type": "code",
     "collapsed": false,
     "input": [
      "## find out something interesting about the data\n"
     ],
     "language": "python",
     "metadata": {},
     "outputs": []
    },
    {
     "cell_type": "code",
     "collapsed": false,
     "input": [
      "## plot some of the data\n"
     ],
     "language": "python",
     "metadata": {},
     "outputs": []
    },
    {
     "cell_type": "code",
     "collapsed": false,
     "input": [
      "## add a new column based on math form original column\n"
     ],
     "language": "python",
     "metadata": {},
     "outputs": []
    },
    {
     "cell_type": "code",
     "collapsed": false,
     "input": [],
     "language": "python",
     "metadata": {},
     "outputs": []
    },
    {
     "cell_type": "code",
     "collapsed": false,
     "input": [
      "# create a new dataframe that only contains Owl data\n"
     ],
     "language": "python",
     "metadata": {},
     "outputs": []
    },
    {
     "cell_type": "code",
     "collapsed": false,
     "input": [],
     "language": "python",
     "metadata": {},
     "outputs": []
    },
    {
     "cell_type": "code",
     "collapsed": false,
     "input": [
      "## Adding empty data\n"
     ],
     "language": "python",
     "metadata": {},
     "outputs": []
    },
    {
     "cell_type": "code",
     "collapsed": false,
     "input": [],
     "language": "python",
     "metadata": {},
     "outputs": []
    },
    {
     "cell_type": "code",
     "collapsed": false,
     "input": [
      "## How many samples of each column do we have\n"
     ],
     "language": "python",
     "metadata": {},
     "outputs": []
    },
    {
     "cell_type": "markdown",
     "metadata": {},
     "source": [
      "#### Iterating through Pandas arrays\n",
      "\n",
      "Iteration is a bit different in Pandas.  In general, it's easy to be very explicit about how you're iterating (e.g., by rows or columns).  All dataframes have an `iterrows` and `iteritems` method.  For this exercise, we'll focus on `iterrows`\n",
      "\n",
      "Iterrows - each iteration will return another row of the dataframe as (index, vals) pairs."
     ]
    },
    {
     "cell_type": "code",
     "collapsed": false,
     "input": [
      "# Each iteration returns a Pandas series, not a simple array.  \n",
      "# This lets you do useful things with it when you become a pandas guru...\n"
     ],
     "language": "python",
     "metadata": {},
     "outputs": []
    },
    {
     "cell_type": "heading",
     "level": 2,
     "metadata": {},
     "source": [
      "Afterword"
     ]
    },
    {
     "cell_type": "markdown",
     "metadata": {},
     "source": [
      "Remember, `pandas` is an incredibly powerful tool that will take you a while to master (though it will certainly be worth it). This is just a small taste of all the things pandas can do, so don't feel discouraged if it seems totally overwhelming. Once you integrate it into your workflow, you will learn bit by bit. Also don't forget to consult the fantastic community of pythonistas around you here at Berkeley.\n",
      "\n",
      "In this lecture we've only covered a couple of the ways that you can read/write data.  While textfiles and CSV files are a common way of storing values, there many, many others.  Fortunately, Python has libraries for handling most of them.  Some things worth looking into are [JSON](http://www.json.org/), [HDF](http://www.hdfgroup.org/), [pickle](http://docs.python.org/2/library/pickle.html), and [savez](http://docs.scipy.org/doc/numpy/reference/generated/numpy.savez.html).\n",
      "\n",
      "As a general note, Pandas should have the ability to read/write to most of these types of storage.  One special case is when you use a proprietary storage format (e.g., if you've bought a machine that stores data in a company-specific way).  \n",
      "\n",
      "There are also many high-level file handlers in `numpy`, such as `loadtxt` and `savetxt`, that are also useful and we encourage you to look into them.  Finally, a totally different kind of data reading problem involves pulling data the internet.  For this, there are dedicated libraries for parsing websites and pulling information from them.  Rest-assured, these tools exist, but this challenge is beyond the scope of this lecture.  "
     ]
    },
    {
     "cell_type": "code",
     "collapsed": false,
     "input": [],
     "language": "python",
     "metadata": {},
     "outputs": []
    }
   ],
   "metadata": {}
  }
 ]
}