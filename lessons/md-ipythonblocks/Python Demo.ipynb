{
 "metadata": {
  "name": ""
 },
 "nbformat": 3,
 "nbformat_minor": 0,
 "worksheets": [
  {
   "cells": [
    {
     "cell_type": "code",
     "collapsed": false,
     "input": [
      "4 + 6"
     ],
     "language": "python",
     "metadata": {},
     "outputs": [
      {
       "metadata": {},
       "output_type": "pyout",
       "prompt_number": 1,
       "text": [
        "10"
       ]
      }
     ],
     "prompt_number": 1
    },
    {
     "cell_type": "code",
     "collapsed": false,
     "input": [
      "ls"
     ],
     "language": "python",
     "metadata": {},
     "outputs": [
      {
       "output_type": "stream",
       "stream": "stdout",
       "text": [
        "Python Intro Full.ipynb  grid3.txt\r\n",
        "Untitled0.ipynb          ipythonblocks.py\r\n",
        "\u001b[34m__pycache__\u001b[m\u001b[m/\r\n"
       ]
      }
     ],
     "prompt_number": 2
    },
    {
     "cell_type": "code",
     "collapsed": false,
     "input": [
      "import ipythonblocks"
     ],
     "language": "python",
     "metadata": {},
     "outputs": [],
     "prompt_number": 3
    },
    {
     "cell_type": "code",
     "collapsed": false,
     "input": [
      "ipythonblocks?"
     ],
     "language": "python",
     "metadata": {},
     "outputs": [],
     "prompt_number": 4
    },
    {
     "cell_type": "code",
     "collapsed": false,
     "input": [
      "ipythonblocks.BlockGrid?"
     ],
     "language": "python",
     "metadata": {},
     "outputs": [],
     "prompt_number": 5
    },
    {
     "cell_type": "code",
     "collapsed": false,
     "input": [
      "from ipythonblocks import BlockGrid, colors"
     ],
     "language": "python",
     "metadata": {},
     "outputs": [],
     "prompt_number": 6
    },
    {
     "cell_type": "code",
     "collapsed": false,
     "input": [
      "BlockGrid(4, 2)"
     ],
     "language": "python",
     "metadata": {},
     "outputs": [
      {
       "html": [
        "<style type=\"text/css\">table.blockgrid {border: none;} .blockgrid tr {border: none;} .blockgrid td {padding: 0px;} #blocks5518b66b-0ca5-4ed8-860d-9e8feaa02dd5 td {border: 1px solid white;}</style><table id=\"blocks5518b66b-0ca5-4ed8-860d-9e8feaa02dd5\" class=\"blockgrid\"><tbody><tr><td title=\"Index: [0, 0]&#10;Color: (0, 0, 0)\" style=\"width: 20px; height: 20px;background-color: rgb(0, 0, 0);\"></td><td title=\"Index: [0, 1]&#10;Color: (0, 0, 0)\" style=\"width: 20px; height: 20px;background-color: rgb(0, 0, 0);\"></td><td title=\"Index: [0, 2]&#10;Color: (0, 0, 0)\" style=\"width: 20px; height: 20px;background-color: rgb(0, 0, 0);\"></td><td title=\"Index: [0, 3]&#10;Color: (0, 0, 0)\" style=\"width: 20px; height: 20px;background-color: rgb(0, 0, 0);\"></td></tr><tr><td title=\"Index: [1, 0]&#10;Color: (0, 0, 0)\" style=\"width: 20px; height: 20px;background-color: rgb(0, 0, 0);\"></td><td title=\"Index: [1, 1]&#10;Color: (0, 0, 0)\" style=\"width: 20px; height: 20px;background-color: rgb(0, 0, 0);\"></td><td title=\"Index: [1, 2]&#10;Color: (0, 0, 0)\" style=\"width: 20px; height: 20px;background-color: rgb(0, 0, 0);\"></td><td title=\"Index: [1, 3]&#10;Color: (0, 0, 0)\" style=\"width: 20px; height: 20px;background-color: rgb(0, 0, 0);\"></td></tr></tbody></table>"
       ],
       "metadata": {},
       "output_type": "pyout",
       "prompt_number": 7,
       "text": [
        "<ipythonblocks.BlockGrid at 0x103fb2410>"
       ]
      }
     ],
     "prompt_number": 7
    },
    {
     "cell_type": "code",
     "collapsed": false,
     "input": [
      "BlockGrid(4, 2, fill=colors.DeepSkyBlue)"
     ],
     "language": "python",
     "metadata": {},
     "outputs": [
      {
       "html": [
        "<style type=\"text/css\">table.blockgrid {border: none;} .blockgrid tr {border: none;} .blockgrid td {padding: 0px;} #blocks40001f01-4165-446e-81b5-0cfd82675b9e td {border: 1px solid white;}</style><table id=\"blocks40001f01-4165-446e-81b5-0cfd82675b9e\" class=\"blockgrid\"><tbody><tr><td title=\"Index: [0, 0]&#10;Color: (0, 191, 255)\" style=\"width: 20px; height: 20px;background-color: rgb(0, 191, 255);\"></td><td title=\"Index: [0, 1]&#10;Color: (0, 191, 255)\" style=\"width: 20px; height: 20px;background-color: rgb(0, 191, 255);\"></td><td title=\"Index: [0, 2]&#10;Color: (0, 191, 255)\" style=\"width: 20px; height: 20px;background-color: rgb(0, 191, 255);\"></td><td title=\"Index: [0, 3]&#10;Color: (0, 191, 255)\" style=\"width: 20px; height: 20px;background-color: rgb(0, 191, 255);\"></td></tr><tr><td title=\"Index: [1, 0]&#10;Color: (0, 191, 255)\" style=\"width: 20px; height: 20px;background-color: rgb(0, 191, 255);\"></td><td title=\"Index: [1, 1]&#10;Color: (0, 191, 255)\" style=\"width: 20px; height: 20px;background-color: rgb(0, 191, 255);\"></td><td title=\"Index: [1, 2]&#10;Color: (0, 191, 255)\" style=\"width: 20px; height: 20px;background-color: rgb(0, 191, 255);\"></td><td title=\"Index: [1, 3]&#10;Color: (0, 191, 255)\" style=\"width: 20px; height: 20px;background-color: rgb(0, 191, 255);\"></td></tr></tbody></table>"
       ],
       "metadata": {},
       "output_type": "pyout",
       "prompt_number": 8,
       "text": [
        "<ipythonblocks.BlockGrid at 0x103fb2810>"
       ]
      }
     ],
     "prompt_number": 8
    },
    {
     "cell_type": "code",
     "collapsed": false,
     "input": [
      "x = 1"
     ],
     "language": "python",
     "metadata": {},
     "outputs": [],
     "prompt_number": 9
    },
    {
     "cell_type": "code",
     "collapsed": false,
     "input": [
      "x"
     ],
     "language": "python",
     "metadata": {},
     "outputs": [
      {
       "metadata": {},
       "output_type": "pyout",
       "prompt_number": 10,
       "text": [
        "1"
       ]
      }
     ],
     "prompt_number": 10
    },
    {
     "cell_type": "code",
     "collapsed": false,
     "input": [
      "print x"
     ],
     "language": "python",
     "metadata": {},
     "outputs": [
      {
       "output_type": "stream",
       "stream": "stdout",
       "text": [
        "1\n"
       ]
      }
     ],
     "prompt_number": 11
    },
    {
     "cell_type": "code",
     "collapsed": false,
     "input": [
      "grid = BlockGrid(5, 5)"
     ],
     "language": "python",
     "metadata": {},
     "outputs": [],
     "prompt_number": 12
    },
    {
     "cell_type": "code",
     "collapsed": false,
     "input": [
      "grid"
     ],
     "language": "python",
     "metadata": {},
     "outputs": [
      {
       "html": [
        "<style type=\"text/css\">table.blockgrid {border: none;} .blockgrid tr {border: none;} .blockgrid td {padding: 0px;} #blocks19848ab8-a16e-44fe-8854-70e3bcf225d2 td {border: 1px solid white;}</style><table id=\"blocks19848ab8-a16e-44fe-8854-70e3bcf225d2\" class=\"blockgrid\"><tbody><tr><td title=\"Index: [0, 0]&#10;Color: (0, 0, 0)\" style=\"width: 20px; height: 20px;background-color: rgb(0, 0, 0);\"></td><td title=\"Index: [0, 1]&#10;Color: (0, 0, 0)\" style=\"width: 20px; height: 20px;background-color: rgb(0, 0, 0);\"></td><td title=\"Index: [0, 2]&#10;Color: (0, 0, 0)\" style=\"width: 20px; height: 20px;background-color: rgb(0, 0, 0);\"></td><td title=\"Index: [0, 3]&#10;Color: (0, 0, 0)\" style=\"width: 20px; height: 20px;background-color: rgb(0, 0, 0);\"></td><td title=\"Index: [0, 4]&#10;Color: (0, 0, 0)\" style=\"width: 20px; height: 20px;background-color: rgb(0, 0, 0);\"></td></tr><tr><td title=\"Index: [1, 0]&#10;Color: (0, 0, 0)\" style=\"width: 20px; height: 20px;background-color: rgb(0, 0, 0);\"></td><td title=\"Index: [1, 1]&#10;Color: (0, 0, 0)\" style=\"width: 20px; height: 20px;background-color: rgb(0, 0, 0);\"></td><td title=\"Index: [1, 2]&#10;Color: (0, 0, 0)\" style=\"width: 20px; height: 20px;background-color: rgb(0, 0, 0);\"></td><td title=\"Index: [1, 3]&#10;Color: (0, 0, 0)\" style=\"width: 20px; height: 20px;background-color: rgb(0, 0, 0);\"></td><td title=\"Index: [1, 4]&#10;Color: (0, 0, 0)\" style=\"width: 20px; height: 20px;background-color: rgb(0, 0, 0);\"></td></tr><tr><td title=\"Index: [2, 0]&#10;Color: (0, 0, 0)\" style=\"width: 20px; height: 20px;background-color: rgb(0, 0, 0);\"></td><td title=\"Index: [2, 1]&#10;Color: (0, 0, 0)\" style=\"width: 20px; height: 20px;background-color: rgb(0, 0, 0);\"></td><td title=\"Index: [2, 2]&#10;Color: (0, 0, 0)\" style=\"width: 20px; height: 20px;background-color: rgb(0, 0, 0);\"></td><td title=\"Index: [2, 3]&#10;Color: (0, 0, 0)\" style=\"width: 20px; height: 20px;background-color: rgb(0, 0, 0);\"></td><td title=\"Index: [2, 4]&#10;Color: (0, 0, 0)\" style=\"width: 20px; height: 20px;background-color: rgb(0, 0, 0);\"></td></tr><tr><td title=\"Index: [3, 0]&#10;Color: (0, 0, 0)\" style=\"width: 20px; height: 20px;background-color: rgb(0, 0, 0);\"></td><td title=\"Index: [3, 1]&#10;Color: (0, 0, 0)\" style=\"width: 20px; height: 20px;background-color: rgb(0, 0, 0);\"></td><td title=\"Index: [3, 2]&#10;Color: (0, 0, 0)\" style=\"width: 20px; height: 20px;background-color: rgb(0, 0, 0);\"></td><td title=\"Index: [3, 3]&#10;Color: (0, 0, 0)\" style=\"width: 20px; height: 20px;background-color: rgb(0, 0, 0);\"></td><td title=\"Index: [3, 4]&#10;Color: (0, 0, 0)\" style=\"width: 20px; height: 20px;background-color: rgb(0, 0, 0);\"></td></tr><tr><td title=\"Index: [4, 0]&#10;Color: (0, 0, 0)\" style=\"width: 20px; height: 20px;background-color: rgb(0, 0, 0);\"></td><td title=\"Index: [4, 1]&#10;Color: (0, 0, 0)\" style=\"width: 20px; height: 20px;background-color: rgb(0, 0, 0);\"></td><td title=\"Index: [4, 2]&#10;Color: (0, 0, 0)\" style=\"width: 20px; height: 20px;background-color: rgb(0, 0, 0);\"></td><td title=\"Index: [4, 3]&#10;Color: (0, 0, 0)\" style=\"width: 20px; height: 20px;background-color: rgb(0, 0, 0);\"></td><td title=\"Index: [4, 4]&#10;Color: (0, 0, 0)\" style=\"width: 20px; height: 20px;background-color: rgb(0, 0, 0);\"></td></tr></tbody></table>"
       ],
       "metadata": {},
       "output_type": "pyout",
       "prompt_number": 13,
       "text": [
        "<ipythonblocks.BlockGrid at 0x103fb2350>"
       ]
      }
     ],
     "prompt_number": 13
    },
    {
     "cell_type": "code",
     "collapsed": false,
     "input": [
      "grid[1]"
     ],
     "language": "python",
     "metadata": {},
     "outputs": [
      {
       "html": [
        "<style type=\"text/css\">table.blockgrid {border: none;} .blockgrid tr {border: none;} .blockgrid td {padding: 0px;} #blocks8e6f9237-c57e-48be-b21a-9ea093eaec90 td {border: 1px solid white;}</style><table id=\"blocks8e6f9237-c57e-48be-b21a-9ea093eaec90\" class=\"blockgrid\"><tbody><tr><td title=\"Index: [0, 0]&#10;Color: (0, 0, 0)\" style=\"width: 20px; height: 20px;background-color: rgb(0, 0, 0);\"></td><td title=\"Index: [0, 1]&#10;Color: (0, 0, 0)\" style=\"width: 20px; height: 20px;background-color: rgb(0, 0, 0);\"></td><td title=\"Index: [0, 2]&#10;Color: (0, 0, 0)\" style=\"width: 20px; height: 20px;background-color: rgb(0, 0, 0);\"></td><td title=\"Index: [0, 3]&#10;Color: (0, 0, 0)\" style=\"width: 20px; height: 20px;background-color: rgb(0, 0, 0);\"></td><td title=\"Index: [0, 4]&#10;Color: (0, 0, 0)\" style=\"width: 20px; height: 20px;background-color: rgb(0, 0, 0);\"></td></tr></tbody></table>"
       ],
       "metadata": {},
       "output_type": "pyout",
       "prompt_number": 14,
       "text": [
        "<ipythonblocks.BlockGrid at 0x103fb2750>"
       ]
      }
     ],
     "prompt_number": 14
    },
    {
     "cell_type": "code",
     "collapsed": false,
     "input": [
      "grid[1, 2]"
     ],
     "language": "python",
     "metadata": {},
     "outputs": [
      {
       "html": [
        "<style type=\"text/css\">table.blockgrid {border: none;} .blockgrid tr {border: none;} .blockgrid td {padding: 0px;} #blocksf608eea8-1505-4f7a-b4a1-2aaa64ddbbfe td {border: 0px solid white;}</style><table id=\"blocksf608eea8-1505-4f7a-b4a1-2aaa64ddbbfe\" class=\"blockgrid\"><tbody><tr><td title=\"Index: [1, 2]&#10;Color: (0, 0, 0)\" style=\"width: 20px; height: 20px;background-color: rgb(0, 0, 0);\"></td></tr></tbody></table>"
       ],
       "metadata": {},
       "output_type": "pyout",
       "prompt_number": 15,
       "text": [
        "Block(0, 0, 0, size=20)"
       ]
      }
     ],
     "prompt_number": 15
    },
    {
     "cell_type": "code",
     "collapsed": false,
     "input": [
      "block = grid[1, 2]\n",
      "block.rgb = colors.Red\n",
      "block"
     ],
     "language": "python",
     "metadata": {},
     "outputs": [
      {
       "html": [
        "<style type=\"text/css\">table.blockgrid {border: none;} .blockgrid tr {border: none;} .blockgrid td {padding: 0px;} #blocksa2567a9b-1852-4baf-8385-1ffb89f7a126 td {border: 0px solid white;}</style><table id=\"blocksa2567a9b-1852-4baf-8385-1ffb89f7a126\" class=\"blockgrid\"><tbody><tr><td title=\"Index: [1, 2]&#10;Color: (255, 0, 0)\" style=\"width: 20px; height: 20px;background-color: rgb(255, 0, 0);\"></td></tr></tbody></table>"
       ],
       "metadata": {},
       "output_type": "pyout",
       "prompt_number": 16,
       "text": [
        "Block(255, 0, 0, size=20)"
       ]
      }
     ],
     "prompt_number": 16
    },
    {
     "cell_type": "code",
     "collapsed": false,
     "input": [
      "grid"
     ],
     "language": "python",
     "metadata": {},
     "outputs": [
      {
       "html": [
        "<style type=\"text/css\">table.blockgrid {border: none;} .blockgrid tr {border: none;} .blockgrid td {padding: 0px;} #blocks5e4a89de-bd80-4308-a9b2-a64bbc10c88c td {border: 1px solid white;}</style><table id=\"blocks5e4a89de-bd80-4308-a9b2-a64bbc10c88c\" class=\"blockgrid\"><tbody><tr><td title=\"Index: [0, 0]&#10;Color: (0, 0, 0)\" style=\"width: 20px; height: 20px;background-color: rgb(0, 0, 0);\"></td><td title=\"Index: [0, 1]&#10;Color: (0, 0, 0)\" style=\"width: 20px; height: 20px;background-color: rgb(0, 0, 0);\"></td><td title=\"Index: [0, 2]&#10;Color: (0, 0, 0)\" style=\"width: 20px; height: 20px;background-color: rgb(0, 0, 0);\"></td><td title=\"Index: [0, 3]&#10;Color: (0, 0, 0)\" style=\"width: 20px; height: 20px;background-color: rgb(0, 0, 0);\"></td><td title=\"Index: [0, 4]&#10;Color: (0, 0, 0)\" style=\"width: 20px; height: 20px;background-color: rgb(0, 0, 0);\"></td></tr><tr><td title=\"Index: [1, 0]&#10;Color: (0, 0, 0)\" style=\"width: 20px; height: 20px;background-color: rgb(0, 0, 0);\"></td><td title=\"Index: [1, 1]&#10;Color: (0, 0, 0)\" style=\"width: 20px; height: 20px;background-color: rgb(0, 0, 0);\"></td><td title=\"Index: [1, 2]&#10;Color: (255, 0, 0)\" style=\"width: 20px; height: 20px;background-color: rgb(255, 0, 0);\"></td><td title=\"Index: [1, 3]&#10;Color: (0, 0, 0)\" style=\"width: 20px; height: 20px;background-color: rgb(0, 0, 0);\"></td><td title=\"Index: [1, 4]&#10;Color: (0, 0, 0)\" style=\"width: 20px; height: 20px;background-color: rgb(0, 0, 0);\"></td></tr><tr><td title=\"Index: [2, 0]&#10;Color: (0, 0, 0)\" style=\"width: 20px; height: 20px;background-color: rgb(0, 0, 0);\"></td><td title=\"Index: [2, 1]&#10;Color: (0, 0, 0)\" style=\"width: 20px; height: 20px;background-color: rgb(0, 0, 0);\"></td><td title=\"Index: [2, 2]&#10;Color: (0, 0, 0)\" style=\"width: 20px; height: 20px;background-color: rgb(0, 0, 0);\"></td><td title=\"Index: [2, 3]&#10;Color: (0, 0, 0)\" style=\"width: 20px; height: 20px;background-color: rgb(0, 0, 0);\"></td><td title=\"Index: [2, 4]&#10;Color: (0, 0, 0)\" style=\"width: 20px; height: 20px;background-color: rgb(0, 0, 0);\"></td></tr><tr><td title=\"Index: [3, 0]&#10;Color: (0, 0, 0)\" style=\"width: 20px; height: 20px;background-color: rgb(0, 0, 0);\"></td><td title=\"Index: [3, 1]&#10;Color: (0, 0, 0)\" style=\"width: 20px; height: 20px;background-color: rgb(0, 0, 0);\"></td><td title=\"Index: [3, 2]&#10;Color: (0, 0, 0)\" style=\"width: 20px; height: 20px;background-color: rgb(0, 0, 0);\"></td><td title=\"Index: [3, 3]&#10;Color: (0, 0, 0)\" style=\"width: 20px; height: 20px;background-color: rgb(0, 0, 0);\"></td><td title=\"Index: [3, 4]&#10;Color: (0, 0, 0)\" style=\"width: 20px; height: 20px;background-color: rgb(0, 0, 0);\"></td></tr><tr><td title=\"Index: [4, 0]&#10;Color: (0, 0, 0)\" style=\"width: 20px; height: 20px;background-color: rgb(0, 0, 0);\"></td><td title=\"Index: [4, 1]&#10;Color: (0, 0, 0)\" style=\"width: 20px; height: 20px;background-color: rgb(0, 0, 0);\"></td><td title=\"Index: [4, 2]&#10;Color: (0, 0, 0)\" style=\"width: 20px; height: 20px;background-color: rgb(0, 0, 0);\"></td><td title=\"Index: [4, 3]&#10;Color: (0, 0, 0)\" style=\"width: 20px; height: 20px;background-color: rgb(0, 0, 0);\"></td><td title=\"Index: [4, 4]&#10;Color: (0, 0, 0)\" style=\"width: 20px; height: 20px;background-color: rgb(0, 0, 0);\"></td></tr></tbody></table>"
       ],
       "metadata": {},
       "output_type": "pyout",
       "prompt_number": 17,
       "text": [
        "<ipythonblocks.BlockGrid at 0x103fb2350>"
       ]
      }
     ],
     "prompt_number": 17
    },
    {
     "cell_type": "markdown",
     "metadata": {},
     "source": [
      "I changed the color of block [1, 2]."
     ]
    },
    {
     "cell_type": "code",
     "collapsed": false,
     "input": [
      "grid[3, 1].rgb = colors.Blue\n",
      "grid"
     ],
     "language": "python",
     "metadata": {},
     "outputs": [
      {
       "html": [
        "<style type=\"text/css\">table.blockgrid {border: none;} .blockgrid tr {border: none;} .blockgrid td {padding: 0px;} #blocksa561e599-c2f2-4ed3-acc5-e36cc3e2da95 td {border: 1px solid white;}</style><table id=\"blocksa561e599-c2f2-4ed3-acc5-e36cc3e2da95\" class=\"blockgrid\"><tbody><tr><td title=\"Index: [0, 0]&#10;Color: (0, 0, 0)\" style=\"width: 20px; height: 20px;background-color: rgb(0, 0, 0);\"></td><td title=\"Index: [0, 1]&#10;Color: (0, 0, 0)\" style=\"width: 20px; height: 20px;background-color: rgb(0, 0, 0);\"></td><td title=\"Index: [0, 2]&#10;Color: (0, 0, 0)\" style=\"width: 20px; height: 20px;background-color: rgb(0, 0, 0);\"></td><td title=\"Index: [0, 3]&#10;Color: (0, 0, 0)\" style=\"width: 20px; height: 20px;background-color: rgb(0, 0, 0);\"></td><td title=\"Index: [0, 4]&#10;Color: (0, 0, 0)\" style=\"width: 20px; height: 20px;background-color: rgb(0, 0, 0);\"></td></tr><tr><td title=\"Index: [1, 0]&#10;Color: (0, 0, 0)\" style=\"width: 20px; height: 20px;background-color: rgb(0, 0, 0);\"></td><td title=\"Index: [1, 1]&#10;Color: (0, 0, 0)\" style=\"width: 20px; height: 20px;background-color: rgb(0, 0, 0);\"></td><td title=\"Index: [1, 2]&#10;Color: (255, 0, 0)\" style=\"width: 20px; height: 20px;background-color: rgb(255, 0, 0);\"></td><td title=\"Index: [1, 3]&#10;Color: (0, 0, 0)\" style=\"width: 20px; height: 20px;background-color: rgb(0, 0, 0);\"></td><td title=\"Index: [1, 4]&#10;Color: (0, 0, 0)\" style=\"width: 20px; height: 20px;background-color: rgb(0, 0, 0);\"></td></tr><tr><td title=\"Index: [2, 0]&#10;Color: (0, 0, 0)\" style=\"width: 20px; height: 20px;background-color: rgb(0, 0, 0);\"></td><td title=\"Index: [2, 1]&#10;Color: (0, 0, 0)\" style=\"width: 20px; height: 20px;background-color: rgb(0, 0, 0);\"></td><td title=\"Index: [2, 2]&#10;Color: (0, 0, 0)\" style=\"width: 20px; height: 20px;background-color: rgb(0, 0, 0);\"></td><td title=\"Index: [2, 3]&#10;Color: (0, 0, 0)\" style=\"width: 20px; height: 20px;background-color: rgb(0, 0, 0);\"></td><td title=\"Index: [2, 4]&#10;Color: (0, 0, 0)\" style=\"width: 20px; height: 20px;background-color: rgb(0, 0, 0);\"></td></tr><tr><td title=\"Index: [3, 0]&#10;Color: (0, 0, 0)\" style=\"width: 20px; height: 20px;background-color: rgb(0, 0, 0);\"></td><td title=\"Index: [3, 1]&#10;Color: (0, 0, 255)\" style=\"width: 20px; height: 20px;background-color: rgb(0, 0, 255);\"></td><td title=\"Index: [3, 2]&#10;Color: (0, 0, 0)\" style=\"width: 20px; height: 20px;background-color: rgb(0, 0, 0);\"></td><td title=\"Index: [3, 3]&#10;Color: (0, 0, 0)\" style=\"width: 20px; height: 20px;background-color: rgb(0, 0, 0);\"></td><td title=\"Index: [3, 4]&#10;Color: (0, 0, 0)\" style=\"width: 20px; height: 20px;background-color: rgb(0, 0, 0);\"></td></tr><tr><td title=\"Index: [4, 0]&#10;Color: (0, 0, 0)\" style=\"width: 20px; height: 20px;background-color: rgb(0, 0, 0);\"></td><td title=\"Index: [4, 1]&#10;Color: (0, 0, 0)\" style=\"width: 20px; height: 20px;background-color: rgb(0, 0, 0);\"></td><td title=\"Index: [4, 2]&#10;Color: (0, 0, 0)\" style=\"width: 20px; height: 20px;background-color: rgb(0, 0, 0);\"></td><td title=\"Index: [4, 3]&#10;Color: (0, 0, 0)\" style=\"width: 20px; height: 20px;background-color: rgb(0, 0, 0);\"></td><td title=\"Index: [4, 4]&#10;Color: (0, 0, 0)\" style=\"width: 20px; height: 20px;background-color: rgb(0, 0, 0);\"></td></tr></tbody></table>"
       ],
       "metadata": {},
       "output_type": "pyout",
       "prompt_number": 18,
       "text": [
        "<ipythonblocks.BlockGrid at 0x103fb2350>"
       ]
      }
     ],
     "prompt_number": 18
    },
    {
     "cell_type": "code",
     "collapsed": false,
     "input": [
      "for block in grid.animate():\n",
      "    block.rgb = colors.Gainsboro"
     ],
     "language": "python",
     "metadata": {},
     "outputs": [
      {
       "html": [
        "<style type=\"text/css\">table.blockgrid {border: none;} .blockgrid tr {border: none;} .blockgrid td {padding: 0px;} #blocks2b643cbd-496e-4bdc-a504-50fbcf59568f td {border: 1px solid white;}</style><table id=\"blocks2b643cbd-496e-4bdc-a504-50fbcf59568f\" class=\"blockgrid\"><tbody><tr><td title=\"Index: [0, 0]&#10;Color: (220, 220, 220)\" style=\"width: 20px; height: 20px;background-color: rgb(220, 220, 220);\"></td><td title=\"Index: [0, 1]&#10;Color: (220, 220, 220)\" style=\"width: 20px; height: 20px;background-color: rgb(220, 220, 220);\"></td><td title=\"Index: [0, 2]&#10;Color: (220, 220, 220)\" style=\"width: 20px; height: 20px;background-color: rgb(220, 220, 220);\"></td><td title=\"Index: [0, 3]&#10;Color: (220, 220, 220)\" style=\"width: 20px; height: 20px;background-color: rgb(220, 220, 220);\"></td><td title=\"Index: [0, 4]&#10;Color: (220, 220, 220)\" style=\"width: 20px; height: 20px;background-color: rgb(220, 220, 220);\"></td></tr><tr><td title=\"Index: [1, 0]&#10;Color: (220, 220, 220)\" style=\"width: 20px; height: 20px;background-color: rgb(220, 220, 220);\"></td><td title=\"Index: [1, 1]&#10;Color: (220, 220, 220)\" style=\"width: 20px; height: 20px;background-color: rgb(220, 220, 220);\"></td><td title=\"Index: [1, 2]&#10;Color: (220, 220, 220)\" style=\"width: 20px; height: 20px;background-color: rgb(220, 220, 220);\"></td><td title=\"Index: [1, 3]&#10;Color: (220, 220, 220)\" style=\"width: 20px; height: 20px;background-color: rgb(220, 220, 220);\"></td><td title=\"Index: [1, 4]&#10;Color: (220, 220, 220)\" style=\"width: 20px; height: 20px;background-color: rgb(220, 220, 220);\"></td></tr><tr><td title=\"Index: [2, 0]&#10;Color: (220, 220, 220)\" style=\"width: 20px; height: 20px;background-color: rgb(220, 220, 220);\"></td><td title=\"Index: [2, 1]&#10;Color: (220, 220, 220)\" style=\"width: 20px; height: 20px;background-color: rgb(220, 220, 220);\"></td><td title=\"Index: [2, 2]&#10;Color: (220, 220, 220)\" style=\"width: 20px; height: 20px;background-color: rgb(220, 220, 220);\"></td><td title=\"Index: [2, 3]&#10;Color: (220, 220, 220)\" style=\"width: 20px; height: 20px;background-color: rgb(220, 220, 220);\"></td><td title=\"Index: [2, 4]&#10;Color: (220, 220, 220)\" style=\"width: 20px; height: 20px;background-color: rgb(220, 220, 220);\"></td></tr><tr><td title=\"Index: [3, 0]&#10;Color: (220, 220, 220)\" style=\"width: 20px; height: 20px;background-color: rgb(220, 220, 220);\"></td><td title=\"Index: [3, 1]&#10;Color: (220, 220, 220)\" style=\"width: 20px; height: 20px;background-color: rgb(220, 220, 220);\"></td><td title=\"Index: [3, 2]&#10;Color: (220, 220, 220)\" style=\"width: 20px; height: 20px;background-color: rgb(220, 220, 220);\"></td><td title=\"Index: [3, 3]&#10;Color: (220, 220, 220)\" style=\"width: 20px; height: 20px;background-color: rgb(220, 220, 220);\"></td><td title=\"Index: [3, 4]&#10;Color: (220, 220, 220)\" style=\"width: 20px; height: 20px;background-color: rgb(220, 220, 220);\"></td></tr><tr><td title=\"Index: [4, 0]&#10;Color: (220, 220, 220)\" style=\"width: 20px; height: 20px;background-color: rgb(220, 220, 220);\"></td><td title=\"Index: [4, 1]&#10;Color: (220, 220, 220)\" style=\"width: 20px; height: 20px;background-color: rgb(220, 220, 220);\"></td><td title=\"Index: [4, 2]&#10;Color: (220, 220, 220)\" style=\"width: 20px; height: 20px;background-color: rgb(220, 220, 220);\"></td><td title=\"Index: [4, 3]&#10;Color: (220, 220, 220)\" style=\"width: 20px; height: 20px;background-color: rgb(220, 220, 220);\"></td><td title=\"Index: [4, 4]&#10;Color: (220, 220, 220)\" style=\"width: 20px; height: 20px;background-color: rgb(220, 220, 220);\"></td></tr></tbody></table>"
       ],
       "metadata": {},
       "output_type": "display_data",
       "text": [
        "<IPython.core.display.HTML at 0x103fb92d0>"
       ]
      }
     ],
     "prompt_number": 20
    },
    {
     "cell_type": "code",
     "collapsed": false,
     "input": [
      "block = grid[0, 0]"
     ],
     "language": "python",
     "metadata": {},
     "outputs": [],
     "prompt_number": 21
    },
    {
     "cell_type": "code",
     "collapsed": false,
     "input": [
      "block.row"
     ],
     "language": "python",
     "metadata": {},
     "outputs": [
      {
       "metadata": {},
       "output_type": "pyout",
       "prompt_number": 22,
       "text": [
        "0"
       ]
      }
     ],
     "prompt_number": 22
    },
    {
     "cell_type": "code",
     "collapsed": false,
     "input": [
      "for block in grid.animate():\n",
      "    if block.row <= 2:\n",
      "        block.rgb = colors.Violet"
     ],
     "language": "python",
     "metadata": {},
     "outputs": [
      {
       "html": [
        "<style type=\"text/css\">table.blockgrid {border: none;} .blockgrid tr {border: none;} .blockgrid td {padding: 0px;} #blocksf1a988dd-8467-44d9-8117-84b5416a6908 td {border: 1px solid white;}</style><table id=\"blocksf1a988dd-8467-44d9-8117-84b5416a6908\" class=\"blockgrid\"><tbody><tr><td title=\"Index: [0, 0]&#10;Color: (238, 130, 238)\" style=\"width: 20px; height: 20px;background-color: rgb(238, 130, 238);\"></td><td title=\"Index: [0, 1]&#10;Color: (238, 130, 238)\" style=\"width: 20px; height: 20px;background-color: rgb(238, 130, 238);\"></td><td title=\"Index: [0, 2]&#10;Color: (238, 130, 238)\" style=\"width: 20px; height: 20px;background-color: rgb(238, 130, 238);\"></td><td title=\"Index: [0, 3]&#10;Color: (238, 130, 238)\" style=\"width: 20px; height: 20px;background-color: rgb(238, 130, 238);\"></td><td title=\"Index: [0, 4]&#10;Color: (238, 130, 238)\" style=\"width: 20px; height: 20px;background-color: rgb(238, 130, 238);\"></td></tr><tr><td title=\"Index: [1, 0]&#10;Color: (238, 130, 238)\" style=\"width: 20px; height: 20px;background-color: rgb(238, 130, 238);\"></td><td title=\"Index: [1, 1]&#10;Color: (238, 130, 238)\" style=\"width: 20px; height: 20px;background-color: rgb(238, 130, 238);\"></td><td title=\"Index: [1, 2]&#10;Color: (238, 130, 238)\" style=\"width: 20px; height: 20px;background-color: rgb(238, 130, 238);\"></td><td title=\"Index: [1, 3]&#10;Color: (238, 130, 238)\" style=\"width: 20px; height: 20px;background-color: rgb(238, 130, 238);\"></td><td title=\"Index: [1, 4]&#10;Color: (238, 130, 238)\" style=\"width: 20px; height: 20px;background-color: rgb(238, 130, 238);\"></td></tr><tr><td title=\"Index: [2, 0]&#10;Color: (238, 130, 238)\" style=\"width: 20px; height: 20px;background-color: rgb(238, 130, 238);\"></td><td title=\"Index: [2, 1]&#10;Color: (238, 130, 238)\" style=\"width: 20px; height: 20px;background-color: rgb(238, 130, 238);\"></td><td title=\"Index: [2, 2]&#10;Color: (238, 130, 238)\" style=\"width: 20px; height: 20px;background-color: rgb(238, 130, 238);\"></td><td title=\"Index: [2, 3]&#10;Color: (238, 130, 238)\" style=\"width: 20px; height: 20px;background-color: rgb(238, 130, 238);\"></td><td title=\"Index: [2, 4]&#10;Color: (238, 130, 238)\" style=\"width: 20px; height: 20px;background-color: rgb(238, 130, 238);\"></td></tr><tr><td title=\"Index: [3, 0]&#10;Color: (220, 220, 220)\" style=\"width: 20px; height: 20px;background-color: rgb(220, 220, 220);\"></td><td title=\"Index: [3, 1]&#10;Color: (220, 220, 220)\" style=\"width: 20px; height: 20px;background-color: rgb(220, 220, 220);\"></td><td title=\"Index: [3, 2]&#10;Color: (220, 220, 220)\" style=\"width: 20px; height: 20px;background-color: rgb(220, 220, 220);\"></td><td title=\"Index: [3, 3]&#10;Color: (220, 220, 220)\" style=\"width: 20px; height: 20px;background-color: rgb(220, 220, 220);\"></td><td title=\"Index: [3, 4]&#10;Color: (220, 220, 220)\" style=\"width: 20px; height: 20px;background-color: rgb(220, 220, 220);\"></td></tr><tr><td title=\"Index: [4, 0]&#10;Color: (220, 220, 220)\" style=\"width: 20px; height: 20px;background-color: rgb(220, 220, 220);\"></td><td title=\"Index: [4, 1]&#10;Color: (220, 220, 220)\" style=\"width: 20px; height: 20px;background-color: rgb(220, 220, 220);\"></td><td title=\"Index: [4, 2]&#10;Color: (220, 220, 220)\" style=\"width: 20px; height: 20px;background-color: rgb(220, 220, 220);\"></td><td title=\"Index: [4, 3]&#10;Color: (220, 220, 220)\" style=\"width: 20px; height: 20px;background-color: rgb(220, 220, 220);\"></td><td title=\"Index: [4, 4]&#10;Color: (220, 220, 220)\" style=\"width: 20px; height: 20px;background-color: rgb(220, 220, 220);\"></td></tr></tbody></table>"
       ],
       "metadata": {},
       "output_type": "display_data",
       "text": [
        "<IPython.core.display.HTML at 0x103fb9210>"
       ]
      }
     ],
     "prompt_number": 23
    },
    {
     "cell_type": "code",
     "collapsed": false,
     "input": [
      "for block in grid.animate():\n",
      "    if block.col in [1:3]:\n",
      "        block.rgb = colors.Wheat"
     ],
     "language": "python",
     "metadata": {},
     "outputs": [
      {
       "html": [
        "<style type=\"text/css\">table.blockgrid {border: none;} .blockgrid tr {border: none;} .blockgrid td {padding: 0px;} #blocks2e705d38-aef9-4d30-83df-6f0adf8d61c4 td {border: 1px solid white;}</style><table id=\"blocks2e705d38-aef9-4d30-83df-6f0adf8d61c4\" class=\"blockgrid\"><tbody><tr><td title=\"Index: [0, 0]&#10;Color: (238, 130, 238)\" style=\"width: 20px; height: 20px;background-color: rgb(238, 130, 238);\"></td><td title=\"Index: [0, 1]&#10;Color: (245, 222, 179)\" style=\"width: 20px; height: 20px;background-color: rgb(245, 222, 179);\"></td><td title=\"Index: [0, 2]&#10;Color: (238, 130, 238)\" style=\"width: 20px; height: 20px;background-color: rgb(238, 130, 238);\"></td><td title=\"Index: [0, 3]&#10;Color: (245, 222, 179)\" style=\"width: 20px; height: 20px;background-color: rgb(245, 222, 179);\"></td><td title=\"Index: [0, 4]&#10;Color: (238, 130, 238)\" style=\"width: 20px; height: 20px;background-color: rgb(238, 130, 238);\"></td></tr><tr><td title=\"Index: [1, 0]&#10;Color: (238, 130, 238)\" style=\"width: 20px; height: 20px;background-color: rgb(238, 130, 238);\"></td><td title=\"Index: [1, 1]&#10;Color: (245, 222, 179)\" style=\"width: 20px; height: 20px;background-color: rgb(245, 222, 179);\"></td><td title=\"Index: [1, 2]&#10;Color: (238, 130, 238)\" style=\"width: 20px; height: 20px;background-color: rgb(238, 130, 238);\"></td><td title=\"Index: [1, 3]&#10;Color: (245, 222, 179)\" style=\"width: 20px; height: 20px;background-color: rgb(245, 222, 179);\"></td><td title=\"Index: [1, 4]&#10;Color: (238, 130, 238)\" style=\"width: 20px; height: 20px;background-color: rgb(238, 130, 238);\"></td></tr><tr><td title=\"Index: [2, 0]&#10;Color: (238, 130, 238)\" style=\"width: 20px; height: 20px;background-color: rgb(238, 130, 238);\"></td><td title=\"Index: [2, 1]&#10;Color: (245, 222, 179)\" style=\"width: 20px; height: 20px;background-color: rgb(245, 222, 179);\"></td><td title=\"Index: [2, 2]&#10;Color: (238, 130, 238)\" style=\"width: 20px; height: 20px;background-color: rgb(238, 130, 238);\"></td><td title=\"Index: [2, 3]&#10;Color: (245, 222, 179)\" style=\"width: 20px; height: 20px;background-color: rgb(245, 222, 179);\"></td><td title=\"Index: [2, 4]&#10;Color: (238, 130, 238)\" style=\"width: 20px; height: 20px;background-color: rgb(238, 130, 238);\"></td></tr><tr><td title=\"Index: [3, 0]&#10;Color: (220, 220, 220)\" style=\"width: 20px; height: 20px;background-color: rgb(220, 220, 220);\"></td><td title=\"Index: [3, 1]&#10;Color: (245, 222, 179)\" style=\"width: 20px; height: 20px;background-color: rgb(245, 222, 179);\"></td><td title=\"Index: [3, 2]&#10;Color: (220, 220, 220)\" style=\"width: 20px; height: 20px;background-color: rgb(220, 220, 220);\"></td><td title=\"Index: [3, 3]&#10;Color: (245, 222, 179)\" style=\"width: 20px; height: 20px;background-color: rgb(245, 222, 179);\"></td><td title=\"Index: [3, 4]&#10;Color: (220, 220, 220)\" style=\"width: 20px; height: 20px;background-color: rgb(220, 220, 220);\"></td></tr><tr><td title=\"Index: [4, 0]&#10;Color: (220, 220, 220)\" style=\"width: 20px; height: 20px;background-color: rgb(220, 220, 220);\"></td><td title=\"Index: [4, 1]&#10;Color: (245, 222, 179)\" style=\"width: 20px; height: 20px;background-color: rgb(245, 222, 179);\"></td><td title=\"Index: [4, 2]&#10;Color: (220, 220, 220)\" style=\"width: 20px; height: 20px;background-color: rgb(220, 220, 220);\"></td><td title=\"Index: [4, 3]&#10;Color: (245, 222, 179)\" style=\"width: 20px; height: 20px;background-color: rgb(245, 222, 179);\"></td><td title=\"Index: [4, 4]&#10;Color: (220, 220, 220)\" style=\"width: 20px; height: 20px;background-color: rgb(220, 220, 220);\"></td></tr></tbody></table>"
       ],
       "metadata": {},
       "output_type": "display_data",
       "text": [
        "<IPython.core.display.HTML at 0x103fb9650>"
       ]
      }
     ],
     "prompt_number": 24
    },
    {
     "cell_type": "code",
     "collapsed": false,
     "input": [],
     "language": "python",
     "metadata": {},
     "outputs": []
    }
   ],
   "metadata": {}
  }
 ]
}